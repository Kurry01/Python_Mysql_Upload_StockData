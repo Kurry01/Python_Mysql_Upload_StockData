{
 "cells": [
  {
   "cell_type": "code",
   "execution_count": 1,
   "metadata": {},
   "outputs": [],
   "source": [
    "import requests\n",
    "import pandas as pd\n",
    "import mysql.connector\n",
    "from mysql.connector import cursor\n",
    "import time"
   ]
  },
  {
   "cell_type": "code",
   "execution_count": 2,
   "metadata": {},
   "outputs": [],
   "source": [
    "# Key API Alpha Vantage\n",
    "api_key = \"9S0PXMUNZHCANG2F\""
   ]
  },
  {
   "cell_type": "code",
   "execution_count": 3,
   "metadata": {},
   "outputs": [],
   "source": [
    "# List of Stocks\n",
    "symbols = [\"AAPL\", \"MSFT\", \"GOOGL\", \"AMZN\"]"
   ]
  },
  {
   "cell_type": "code",
   "execution_count": 4,
   "metadata": {},
   "outputs": [],
   "source": [
    "# Connect to server MySQL\n",
    "conn = mysql.connector.connect(\n",
    "    host=\"localhost\", \n",
    "    user=\"root\",  ### Change to specific user\n",
    "    password=\"\",  ### Use your password\n",
    "    database=\"stocksdata\"  ### Change to your DB\n",
    ")"
   ]
  },
  {
   "cell_type": "code",
   "execution_count": 5,
   "metadata": {},
   "outputs": [],
   "source": [
    "# Declare a dictionary to store the DataFrames for each symbol\n",
    "dati_per_simbolo = {}"
   ]
  },
  {
   "cell_type": "code",
   "execution_count": 6,
   "metadata": {},
   "outputs": [
    {
     "name": "stdout",
     "output_type": "stream",
     "text": [
      "Done!\n",
      "Done!\n",
      "Done!\n",
      "Done!\n"
     ]
    },
    {
     "ename": "KeyboardInterrupt",
     "evalue": "",
     "output_type": "error",
     "traceback": [
      "\u001b[1;31m---------------------------------------------------------------------------\u001b[0m",
      "\u001b[1;31mKeyboardInterrupt\u001b[0m                         Traceback (most recent call last)",
      "\u001b[1;32m<ipython-input-6-32606b160e15>\u001b[0m in \u001b[0;36m<module>\u001b[1;34m\u001b[0m\n\u001b[0;32m     51\u001b[0m     \u001b[1;31m# Wait 5 seconds before running the script again\u001b[0m\u001b[1;33m\u001b[0m\u001b[1;33m\u001b[0m\u001b[1;33m\u001b[0m\u001b[0m\n\u001b[0;32m     52\u001b[0m \u001b[1;33m\u001b[0m\u001b[0m\n\u001b[1;32m---> 53\u001b[1;33m     \u001b[0mtime\u001b[0m\u001b[1;33m.\u001b[0m\u001b[0msleep\u001b[0m\u001b[1;33m(\u001b[0m\u001b[1;36m5\u001b[0m\u001b[1;33m)\u001b[0m  \u001b[1;31m# 5 seconds\u001b[0m\u001b[1;33m\u001b[0m\u001b[1;33m\u001b[0m\u001b[0m\n\u001b[0m",
      "\u001b[1;31mKeyboardInterrupt\u001b[0m: "
     ]
    }
   ],
   "source": [
    "while True:\n",
    "\n",
    " # Download data and enter it into the database for each symbol\n",
    " for symbol in symbols:\n",
    "    # Download data from alphavantage\n",
    "    url = f\"https://www.alphavantage.co/query?function=TIME_SERIES_INTRADAY&symbol={symbol}&interval=5min&apikey={api_key}\"\n",
    "    response = requests.get(url)\n",
    "    data = response.json()\n",
    "\n",
    "    # Extract the data from the JSON dictionary into a pandas DataFrame\n",
    "    df = pd.DataFrame.from_dict(data['Time Series (5min)'], orient='index')\n",
    "    df.index = pd.to_datetime(df.index)\n",
    "    df.columns = ['Open', 'High', 'Low', 'Close', 'Volume']\n",
    "\n",
    "    \n",
    "    # Sort the DataFrame for the 'Data' column in ascending order\n",
    "    df = df.sort_index()\n",
    "    \n",
    "    # Store the DataFrame in the dictionary\n",
    "    dati_per_simbolo[symbol] = df\n",
    "    \n",
    "   \n",
    "    \n",
    "    \n",
    "\n",
    "    # Create a separate table for the symbol in the database\n",
    "    cursor = conn.cursor()\n",
    "    create_table_query = f\"\"\"\n",
    "    CREATE TABLE IF NOT EXISTS {symbol} (\n",
    "        id INT AUTO_INCREMENT PRIMARY KEY,\n",
    "        Date DATETIME UNIQUE ,\n",
    "        Open FLOAT,\n",
    "        High FLOAT,\n",
    "        Low FLOAT,\n",
    "        Close FLOAT,\n",
    "        Volume INT\n",
    "    )\n",
    "    \"\"\"\n",
    "    cursor.execute(create_table_query)\n",
    "\n",
    "    # Enter the data into the database\n",
    "    for index, row in df.iterrows():\n",
    "        cursor.execute(f\"INSERT INTO {symbol} (Date, Open, High, Low, Close, Volume) VALUES (%s, %s, %s, %s, %s, %s)\",\n",
    "                       (index, row['Open'], row['High'], row['Low'], row['Close'], row['Volume']))\n",
    "     \n",
    "     \n",
    "    conn.commit()\n",
    "    cursor.close()\n",
    "\n",
    "    print(\"Done!\")\n",
    "    # Wait 5 seconds before running the script again\n",
    "    \n",
    "    time.sleep(5)  # 5 seconds"
   ]
  },
  {
   "cell_type": "code",
   "execution_count": null,
   "metadata": {},
   "outputs": [],
   "source": []
  },
  {
   "cell_type": "code",
   "execution_count": null,
   "metadata": {},
   "outputs": [],
   "source": []
  },
  {
   "cell_type": "code",
   "execution_count": null,
   "metadata": {},
   "outputs": [],
   "source": []
  },
  {
   "cell_type": "code",
   "execution_count": null,
   "metadata": {},
   "outputs": [],
   "source": []
  },
  {
   "cell_type": "code",
   "execution_count": null,
   "metadata": {},
   "outputs": [],
   "source": []
  },
  {
   "cell_type": "code",
   "execution_count": null,
   "metadata": {},
   "outputs": [],
   "source": []
  },
  {
   "cell_type": "code",
   "execution_count": null,
   "metadata": {},
   "outputs": [],
   "source": []
  },
  {
   "cell_type": "code",
   "execution_count": null,
   "metadata": {},
   "outputs": [],
   "source": []
  },
  {
   "cell_type": "code",
   "execution_count": null,
   "metadata": {},
   "outputs": [],
   "source": []
  },
  {
   "cell_type": "code",
   "execution_count": null,
   "metadata": {},
   "outputs": [],
   "source": []
  }
 ],
 "metadata": {
  "kernelspec": {
   "display_name": "Python 3",
   "language": "python",
   "name": "python3"
  },
  "language_info": {
   "codemirror_mode": {
    "name": "ipython",
    "version": 3
   },
   "file_extension": ".py",
   "mimetype": "text/x-python",
   "name": "python",
   "nbconvert_exporter": "python",
   "pygments_lexer": "ipython3",
   "version": "3.8.5"
  }
 },
 "nbformat": 4,
 "nbformat_minor": 4
}
